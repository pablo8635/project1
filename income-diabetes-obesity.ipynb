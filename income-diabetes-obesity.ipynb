{
 "cells": [
  {
   "cell_type": "code",
   "execution_count": 13,
   "metadata": {},
   "outputs": [
    {
     "ename": "ModuleNotFoundError",
     "evalue": "No module named 'datapackage'",
     "output_type": "error",
     "traceback": [
      "\u001b[0;31m---------------------------------------------------------------------------\u001b[0m",
      "\u001b[0;31mModuleNotFoundError\u001b[0m                       Traceback (most recent call last)",
      "\u001b[0;32m<ipython-input-13-c01dc1addc9d>\u001b[0m in \u001b[0;36m<module>\u001b[0;34m\u001b[0m\n\u001b[1;32m      1\u001b[0m \u001b[0;31m#Import Modules\u001b[0m\u001b[0;34m\u001b[0m\u001b[0;34m\u001b[0m\u001b[0;34m\u001b[0m\u001b[0m\n\u001b[0;32m----> 2\u001b[0;31m \u001b[0;32mfrom\u001b[0m \u001b[0mdatapackage\u001b[0m \u001b[0;32mimport\u001b[0m \u001b[0mPackage\u001b[0m\u001b[0;34m\u001b[0m\u001b[0;34m\u001b[0m\u001b[0m\n\u001b[0m\u001b[1;32m      3\u001b[0m \u001b[0;32mimport\u001b[0m \u001b[0mpandas\u001b[0m \u001b[0;32mas\u001b[0m \u001b[0mpd\u001b[0m\u001b[0;34m\u001b[0m\u001b[0;34m\u001b[0m\u001b[0m\n",
      "\u001b[0;31mModuleNotFoundError\u001b[0m: No module named 'datapackage'"
     ]
    }
   ],
   "source": [
    "#Import Modules\n",
    "from datapackage import Package\n",
    "import pandas as pd"
   ]
  },
  {
   "cell_type": "code",
   "execution_count": 14,
   "metadata": {},
   "outputs": [
    {
     "data": {
      "text/html": [
       "<div>\n",
       "<style scoped>\n",
       "    .dataframe tbody tr th:only-of-type {\n",
       "        vertical-align: middle;\n",
       "    }\n",
       "\n",
       "    .dataframe tbody tr th {\n",
       "        vertical-align: top;\n",
       "    }\n",
       "\n",
       "    .dataframe thead th {\n",
       "        text-align: right;\n",
       "    }\n",
       "</style>\n",
       "<table border=\"1\" class=\"dataframe\">\n",
       "  <thead>\n",
       "    <tr style=\"text-align: right;\">\n",
       "      <th></th>\n",
       "      <th>Edition</th>\n",
       "      <th>Report Type</th>\n",
       "      <th>Measure Name</th>\n",
       "      <th>State Name</th>\n",
       "      <th>Rank</th>\n",
       "      <th>Value</th>\n",
       "      <th>Score</th>\n",
       "      <th>Lower CI</th>\n",
       "      <th>Upper CI</th>\n",
       "      <th>Source</th>\n",
       "      <th>Source Year</th>\n",
       "    </tr>\n",
       "  </thead>\n",
       "  <tbody>\n",
       "    <tr>\n",
       "      <th>0</th>\n",
       "      <td>2015</td>\n",
       "      <td>2015 Annual</td>\n",
       "      <td>Air Pollution</td>\n",
       "      <td>Alabama</td>\n",
       "      <td>34.0</td>\n",
       "      <td>9.5</td>\n",
       "      <td>0.00</td>\n",
       "      <td>NaN</td>\n",
       "      <td>NaN</td>\n",
       "      <td>U.S. Environmental Protection Agency; U.S. Cen...</td>\n",
       "      <td>2012-2014</td>\n",
       "    </tr>\n",
       "    <tr>\n",
       "      <th>1</th>\n",
       "      <td>2015</td>\n",
       "      <td>2015 Annual</td>\n",
       "      <td>Air Pollution</td>\n",
       "      <td>Alaska</td>\n",
       "      <td>4.0</td>\n",
       "      <td>6.0</td>\n",
       "      <td>-2.00</td>\n",
       "      <td>NaN</td>\n",
       "      <td>NaN</td>\n",
       "      <td>U.S. Environmental Protection Agency; U.S. Cen...</td>\n",
       "      <td>2012-2014</td>\n",
       "    </tr>\n",
       "    <tr>\n",
       "      <th>2</th>\n",
       "      <td>2015</td>\n",
       "      <td>2015 Annual</td>\n",
       "      <td>Air Pollution</td>\n",
       "      <td>Arizona</td>\n",
       "      <td>37.0</td>\n",
       "      <td>9.7</td>\n",
       "      <td>0.12</td>\n",
       "      <td>NaN</td>\n",
       "      <td>NaN</td>\n",
       "      <td>U.S. Environmental Protection Agency; U.S. Cen...</td>\n",
       "      <td>2012-2014</td>\n",
       "    </tr>\n",
       "    <tr>\n",
       "      <th>3</th>\n",
       "      <td>2015</td>\n",
       "      <td>2015 Annual</td>\n",
       "      <td>Air Pollution</td>\n",
       "      <td>Arkansas</td>\n",
       "      <td>37.0</td>\n",
       "      <td>9.7</td>\n",
       "      <td>0.12</td>\n",
       "      <td>NaN</td>\n",
       "      <td>NaN</td>\n",
       "      <td>U.S. Environmental Protection Agency; U.S. Cen...</td>\n",
       "      <td>2012-2014</td>\n",
       "    </tr>\n",
       "    <tr>\n",
       "      <th>4</th>\n",
       "      <td>2015</td>\n",
       "      <td>2015 Annual</td>\n",
       "      <td>Air Pollution</td>\n",
       "      <td>California</td>\n",
       "      <td>50.0</td>\n",
       "      <td>12.5</td>\n",
       "      <td>1.78</td>\n",
       "      <td>NaN</td>\n",
       "      <td>NaN</td>\n",
       "      <td>U.S. Environmental Protection Agency; U.S. Cen...</td>\n",
       "      <td>2012-2014</td>\n",
       "    </tr>\n",
       "  </tbody>\n",
       "</table>\n",
       "</div>"
      ],
      "text/plain": [
       "   Edition  Report Type   Measure Name  State Name  Rank  Value  Score  \\\n",
       "0     2015  2015 Annual  Air Pollution     Alabama  34.0    9.5   0.00   \n",
       "1     2015  2015 Annual  Air Pollution      Alaska   4.0    6.0  -2.00   \n",
       "2     2015  2015 Annual  Air Pollution     Arizona  37.0    9.7   0.12   \n",
       "3     2015  2015 Annual  Air Pollution    Arkansas  37.0    9.7   0.12   \n",
       "4     2015  2015 Annual  Air Pollution  California  50.0   12.5   1.78   \n",
       "\n",
       "   Lower CI  Upper CI                                             Source  \\\n",
       "0       NaN       NaN  U.S. Environmental Protection Agency; U.S. Cen...   \n",
       "1       NaN       NaN  U.S. Environmental Protection Agency; U.S. Cen...   \n",
       "2       NaN       NaN  U.S. Environmental Protection Agency; U.S. Cen...   \n",
       "3       NaN       NaN  U.S. Environmental Protection Agency; U.S. Cen...   \n",
       "4       NaN       NaN  U.S. Environmental Protection Agency; U.S. Cen...   \n",
       "\n",
       "  Source Year  \n",
       "0   2012-2014  \n",
       "1   2012-2014  \n",
       "2   2012-2014  \n",
       "3   2012-2014  \n",
       "4   2012-2014  "
      ]
     },
     "execution_count": 14,
     "metadata": {},
     "output_type": "execute_result"
    }
   ],
   "source": [
    "#Read csv files and create DataFrames\n",
    "annual_files = ['2015-Annual.csv', '2016-Annual.csv', '2017-Annual.csv','2018-Annual.csv',' 2019-Annual.csv']\n",
    "other_files = ['Median Household Income.csv', 'adults-with-diabetes-per-100-lghc-indicator-23.csv', 'Nutrition__Physical_Activity__and_Obesity_-_Behavioral_Risk_Factor_Surveillance_System.csv']\n",
    "\n",
    "dfs = []\n",
    "for file in annual_files:\n",
    "    df = pd.read_csv(file, index_col=None, header=0)\n",
    "    dfs.append(df)\n",
    "    \n",
    "#Ignorar de aquí para abajo\n",
    "f1=pd.read_csv(file1)\n",
    "f2=pd.read_csv(file2)\n",
    "f3=pd.read_csv(file3)\n",
    "f4=pd.read_csv(file4)\n",
    "f5=pd.read_csv(file5)\n",
    "f6=pd.read_csv(file6)\n",
    "f6=pd.read_csv(file6)\n",
    "f7=pd.read_csv(file6)\n",
    "f8=pd.read_csv(file6)\n",
    "\n",
    "df_obesity_diabetes_2015 = pd.DataFrame(f1)\n",
    "df_obesity_diabetes_2016 = pd.DataFrame(f2)\n",
    "df_obesity_diabetes_2017 = pd.DataFrame(f3)\n",
    "df_obesity_diabetes_2018 = pd.DataFrame(f4)\n",
    "df_obesity_diabetes_2019 = pd.DataFrame(f5)\n",
    "df_income = pd.DataFrame(f6)\n",
    "df_obesity_diabetes_2015.head()"
   ]
  },
  {
   "cell_type": "code",
   "execution_count": 15,
   "metadata": {},
   "outputs": [
    {
     "ename": "NameError",
     "evalue": "name 'datapackage' is not defined",
     "output_type": "error",
     "traceback": [
      "\u001b[0;31m---------------------------------------------------------------------------\u001b[0m",
      "\u001b[0;31mNameError\u001b[0m                                 Traceback (most recent call last)",
      "\u001b[0;32m<ipython-input-15-e9b449d6177f>\u001b[0m in \u001b[0;36m<module>\u001b[0;34m\u001b[0m\n\u001b[1;32m      2\u001b[0m \u001b[0;34m\u001b[0m\u001b[0m\n\u001b[1;32m      3\u001b[0m \u001b[0;31m# to load Data Package into storage\u001b[0m\u001b[0;34m\u001b[0m\u001b[0;34m\u001b[0m\u001b[0;34m\u001b[0m\u001b[0m\n\u001b[0;32m----> 4\u001b[0;31m \u001b[0mpackage\u001b[0m \u001b[0;34m=\u001b[0m \u001b[0mdatapackage\u001b[0m\u001b[0;34m.\u001b[0m\u001b[0mPackage\u001b[0m\u001b[0;34m(\u001b[0m\u001b[0mdata_url\u001b[0m\u001b[0;34m)\u001b[0m\u001b[0;34m\u001b[0m\u001b[0;34m\u001b[0m\u001b[0m\n\u001b[0m\u001b[1;32m      5\u001b[0m \u001b[0;34m\u001b[0m\u001b[0m\n\u001b[1;32m      6\u001b[0m \u001b[0;31m# to load only tabular data\u001b[0m\u001b[0;34m\u001b[0m\u001b[0;34m\u001b[0m\u001b[0;34m\u001b[0m\u001b[0m\n",
      "\u001b[0;31mNameError\u001b[0m: name 'datapackage' is not defined"
     ]
    }
   ],
   "source": [
    "data_url = 'https://datahub.io/machine-learning/diabetes/datapackage.json'\n",
    "\n",
    "# to load Data Package into storage\n",
    "package = datapackage.Package(data_url)\n",
    "\n",
    "# to load only tabular data\n",
    "resources = package.resources\n",
    "for resource in resources:\n",
    "    if resource.tabular:\n",
    "        data = pd.read_csv(resource.descriptor['path'])\n",
    "        print (data)"
   ]
  },
  {
   "cell_type": "code",
   "execution_count": null,
   "metadata": {},
   "outputs": [],
   "source": [
    "#Merge and clean (erase unnceseary columns) obesity and diabetes Dataframes into single DataFrame"
   ]
  },
  {
   "cell_type": "code",
   "execution_count": null,
   "metadata": {},
   "outputs": [],
   "source": [
    "#Statistical analysis"
   ]
  },
  {
   "cell_type": "code",
   "execution_count": null,
   "metadata": {},
   "outputs": [],
   "source": [
    "#Create maps"
   ]
  }
 ],
 "metadata": {
  "kernelspec": {
   "display_name": "Python 3",
   "language": "python",
   "name": "python3"
  },
  "language_info": {
   "codemirror_mode": {
    "name": "ipython",
    "version": 3
   },
   "file_extension": ".py",
   "mimetype": "text/x-python",
   "name": "python",
   "nbconvert_exporter": "python",
   "pygments_lexer": "ipython3",
   "version": "3.6.9"
  }
 },
 "nbformat": 4,
 "nbformat_minor": 2
}
